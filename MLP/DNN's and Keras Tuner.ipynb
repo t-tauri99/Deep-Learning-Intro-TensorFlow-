{
 "cells": [
  {
   "cell_type": "markdown",
   "metadata": {},
   "source": [
    "## Building and Training Neural Networks"
   ]
  },
  {
   "cell_type": "markdown",
   "metadata": {},
   "source": [
    "## UCI Pima Diabetes Dataset\n",
    "\n",
    "* UCI ML Repositiory (http://archive.ics.uci.edu/ml/datasets/Pima+Indians+Diabetes)\n",
    "\n",
    "### Attributes: (all numeric-valued)\n",
    "   1. Number of times pregnant\n",
    "   2. Plasma glucose concentration a 2 hours in an oral glucose tolerance test\n",
    "   3. Diastolic blood pressure (mm Hg)\n",
    "   4. Triceps skin fold thickness (mm)\n",
    "   5. 2-Hour serum insulin (mu U/ml)\n",
    "   6. Body mass index (weight in kg/(height in m)^2)\n",
    "   7. Diabetes pedigree function\n",
    "   8. Age (years)\n",
    "   9. Class variable (0 or 1)"
   ]
  },
  {
   "cell_type": "markdown",
   "metadata": {},
   "source": [
    "The UCI Pima Diabetes Dataset which has 8 numerical predictors and a binary outcome."
   ]
  },
  {
   "cell_type": "markdown",
   "metadata": {},
   "source": [
    "### Part 1: Data Exploration and Preprocessing\n",
    "\n",
    "1. Read and load data into tf.data.Dataset object\n",
    "2. Explore and pre-process the dataset. \n",
    "  \n",
    "  \n",
    "### Part 2: Building a Baseline Model using Keras\n",
    "\n",
    "Using the Sequential model to quickly build a baseline neural network with one single hidden layer with 12 nodes. \n",
    "\n",
    "3. Split the data to training and testing dataset (75%, 25%)\n",
    "4. Build the baseline model and finding how many parameters does my model have.\n",
    "5. Train the model with 20 epochs with RMSProp at a learning rate of .001 and a batch size of 128\n",
    "6. Graph the trajectory of the loss functions, accuracy on both train and test set.\n",
    "7. Evaluate and interpret the accuracy and loss performance during training, and testing. \n",
    "\n",
    "### Part 3: Find the Best Model\n",
    "\n",
    "Here I'll try four different models and see if I can improve the accuracy by focusing on different network structures (i.e, activation functions, optimization algorithms, batch sizes, number of epochs, ...), affecting the performance, training time, and level of overfitting (or underfitting).\n",
    "\n",
    "8. For all my models, plotting the confusion matrix and the ROC curve and interpreting their results. \n",
    "9. Which model has best performance, why?\n",
    "10. Saving the best model weights into a binary file.\n",
    "11. Use Keras Tuner to find the optimal modela and recording my observation.\n",
    "12. Provide a Keras functional implementation of the optimal model in 11).\n",
    "\n"
   ]
  },
  {
   "cell_type": "code",
   "execution_count": 14,
   "metadata": {},
   "outputs": [],
   "source": [
    "import tensorflow as tf\n",
    "from tensorflow import keras\n",
    "import numpy as np\n",
    "import pandas as pd"
   ]
  },
  {
   "cell_type": "code",
   "execution_count": 15,
   "metadata": {},
   "outputs": [
    {
     "name": "stdout",
     "output_type": "stream",
     "text": [
      "<bound method NDFrame.head of       6  148  72  35    0  33.6  0.627  50  1\n",
      "0     1   85  66  29    0  26.6  0.351  31  0\n",
      "1     8  183  64   0    0  23.3  0.672  32  1\n",
      "2     1   89  66  23   94  28.1  0.167  21  0\n",
      "3     0  137  40  35  168  43.1  2.288  33  1\n",
      "4     5  116  74   0    0  25.6  0.201  30  0\n",
      "..   ..  ...  ..  ..  ...   ...    ...  .. ..\n",
      "762  10  101  76  48  180  32.9  0.171  63  0\n",
      "763   2  122  70  27    0  36.8  0.340  27  0\n",
      "764   5  121  72  23  112  26.2  0.245  30  0\n",
      "765   1  126  60   0    0  30.1  0.349  47  1\n",
      "766   1   93  70  31    0  30.4  0.315  23  0\n",
      "\n",
      "[767 rows x 9 columns]>\n"
     ]
    }
   ],
   "source": [
    "df = pd.read_csv('pima-indians-diabetes.csv')\n",
    "print(df.head)"
   ]
  },
  {
   "cell_type": "code",
   "execution_count": 16,
   "metadata": {},
   "outputs": [
    {
     "name": "stdout",
     "output_type": "stream",
     "text": [
      "<bound method NDFrame.describe of       6  148  72  35    0  33.6  0.627  50  1\n",
      "0     1   85  66  29    0  26.6  0.351  31  0\n",
      "1     8  183  64   0    0  23.3  0.672  32  1\n",
      "2     1   89  66  23   94  28.1  0.167  21  0\n",
      "3     0  137  40  35  168  43.1  2.288  33  1\n",
      "4     5  116  74   0    0  25.6  0.201  30  0\n",
      "..   ..  ...  ..  ..  ...   ...    ...  .. ..\n",
      "762  10  101  76  48  180  32.9  0.171  63  0\n",
      "763   2  122  70  27    0  36.8  0.340  27  0\n",
      "764   5  121  72  23  112  26.2  0.245  30  0\n",
      "765   1  126  60   0    0  30.1  0.349  47  1\n",
      "766   1   93  70  31    0  30.4  0.315  23  0\n",
      "\n",
      "[767 rows x 9 columns]>\n"
     ]
    }
   ],
   "source": [
    "print(df.describe)"
   ]
  },
  {
   "cell_type": "code",
   "execution_count": 17,
   "metadata": {},
   "outputs": [],
   "source": [
    "df.columns = ['num_of_times_pregnant','plasma_glucose_concentration', 'diastolic_blood_pressure', 'tricep_skin_fold_thickness',\n",
    "             'serum_insulin', 'bmi', 'pedigree_function','age', 'class']"
   ]
  },
  {
   "cell_type": "code",
   "execution_count": 18,
   "metadata": {},
   "outputs": [
    {
     "name": "stdout",
     "output_type": "stream",
     "text": [
      "<class 'pandas.core.frame.DataFrame'>\n",
      "RangeIndex: 767 entries, 0 to 766\n",
      "Data columns (total 9 columns):\n",
      " #   Column                        Non-Null Count  Dtype  \n",
      "---  ------                        --------------  -----  \n",
      " 0   num_of_times_pregnant         767 non-null    int64  \n",
      " 1   plasma_glucose_concentration  767 non-null    int64  \n",
      " 2   diastolic_blood_pressure      767 non-null    int64  \n",
      " 3   tricep_skin_fold_thickness    767 non-null    int64  \n",
      " 4   serum_insulin                 767 non-null    int64  \n",
      " 5   bmi                           767 non-null    float64\n",
      " 6   pedigree_function             767 non-null    float64\n",
      " 7   age                           767 non-null    int64  \n",
      " 8   class                         767 non-null    int64  \n",
      "dtypes: float64(2), int64(7)\n",
      "memory usage: 54.1 KB\n"
     ]
    }
   ],
   "source": [
    "df.info()"
   ]
  },
  {
   "cell_type": "code",
   "execution_count": 32,
   "metadata": {},
   "outputs": [],
   "source": [
    "from sklearn.linear_model import LinearRegression\n",
    "from sklearn.model_selection import train_test_split\n",
    " \n",
    "# get the locations\n",
    "X = df.iloc[:, 0:8]\n",
    "Y = df.iloc[:, 8]\n",
    "# split the dataset\n",
    "X_train, X_test,Y_train,Y_test = train_test_split(\n",
    "    X, Y, test_size=0.25, random_state=0)"
   ]
  },
  {
   "cell_type": "markdown",
   "metadata": {},
   "source": [
    "Code for building ROC curve"
   ]
  },
  {
   "cell_type": "code",
   "execution_count": 33,
   "metadata": {},
   "outputs": [
    {
     "name": "stderr",
     "output_type": "stream",
     "text": [
      "C:\\Users\\Vibhav\\anaconda3\\lib\\site-packages\\sklearn\\linear_model\\_logistic.py:814: ConvergenceWarning: lbfgs failed to converge (status=1):\n",
      "STOP: TOTAL NO. of ITERATIONS REACHED LIMIT.\n",
      "\n",
      "Increase the number of iterations (max_iter) or scale the data as shown in:\n",
      "    https://scikit-learn.org/stable/modules/preprocessing.html\n",
      "Please also refer to the documentation for alternative solver options:\n",
      "    https://scikit-learn.org/stable/modules/linear_model.html#logistic-regression\n",
      "  n_iter_i = _check_optimize_result(\n"
     ]
    },
    {
     "data": {
      "text/plain": [
       "LogisticRegression()"
      ]
     },
     "execution_count": 33,
     "metadata": {},
     "output_type": "execute_result"
    }
   ],
   "source": [
    "from sklearn.model_selection import train_test_split\n",
    "from sklearn.linear_model import LogisticRegression\n",
    "from sklearn import metrics\n",
    "import matplotlib.pyplot as plt\n",
    "log_regression = LogisticRegression()\n",
    "log_regression.fit(X_train,Y_train)"
   ]
  },
  {
   "cell_type": "markdown",
   "metadata": {},
   "source": [
    "***MODEL 1***\n",
    "1. 2 dense layers with 16 and 32 units.\n",
    "2. Output layers with activation function as softmax.\n",
    "3. Optimizer = RMSprop, Loss = mean_squared_error\n",
    "4. epochs = 20\n",
    "5. batch size = 16"
   ]
  },
  {
   "cell_type": "code",
   "execution_count": 54,
   "metadata": {},
   "outputs": [],
   "source": [
    "model = tf.keras.models.Sequential([\n",
    "    tf.keras.layers.Dense(16, input_dim = 8, activation ='relu'),\n",
    "    tf.keras.layers.Dense(32, activation='relu'),\n",
    "    # Only 1 output neuron. It will contain a value from 0-1 where 0 for no diabetes and 1 for diabetes\n",
    "    tf.keras.layers.Dense(1, activation='softmax')\n",
    "])"
   ]
  },
  {
   "cell_type": "code",
   "execution_count": 55,
   "metadata": {},
   "outputs": [],
   "source": [
    "from tensorflow.keras.optimizers import RMSprop\n",
    "model.compile(optimizer = RMSprop(learning_rate = 0.01), loss='mean_squared_error', metrics = ['accuracy'])"
   ]
  },
  {
   "cell_type": "code",
   "execution_count": 56,
   "metadata": {},
   "outputs": [
    {
     "name": "stdout",
     "output_type": "stream",
     "text": [
      "Epoch 1/20\n",
      "27/27 [==============================] - 1s 10ms/step - loss: 0.6613 - accuracy: 0.3387 - val_loss: 0.5833 - val_accuracy: 0.4167\n",
      "Epoch 2/20\n",
      "27/27 [==============================] - 0s 3ms/step - loss: 0.6613 - accuracy: 0.3387 - val_loss: 0.5833 - val_accuracy: 0.4167\n",
      "Epoch 3/20\n",
      "27/27 [==============================] - 0s 3ms/step - loss: 0.6613 - accuracy: 0.3387 - val_loss: 0.5833 - val_accuracy: 0.4167\n",
      "Epoch 4/20\n",
      "27/27 [==============================] - 0s 3ms/step - loss: 0.6613 - accuracy: 0.3387 - val_loss: 0.5833 - val_accuracy: 0.4167\n",
      "Epoch 5/20\n",
      "27/27 [==============================] - 0s 3ms/step - loss: 0.6613 - accuracy: 0.3387 - val_loss: 0.5833 - val_accuracy: 0.4167\n",
      "Epoch 6/20\n",
      "27/27 [==============================] - 0s 3ms/step - loss: 0.6613 - accuracy: 0.3387 - val_loss: 0.5833 - val_accuracy: 0.4167\n",
      "Epoch 7/20\n",
      "27/27 [==============================] - 0s 2ms/step - loss: 0.6613 - accuracy: 0.3387 - val_loss: 0.5833 - val_accuracy: 0.4167\n",
      "Epoch 8/20\n",
      "27/27 [==============================] - 0s 3ms/step - loss: 0.6613 - accuracy: 0.3387 - val_loss: 0.5833 - val_accuracy: 0.4167\n",
      "Epoch 9/20\n",
      "27/27 [==============================] - 0s 3ms/step - loss: 0.6613 - accuracy: 0.3387 - val_loss: 0.5833 - val_accuracy: 0.4167\n",
      "Epoch 10/20\n",
      "27/27 [==============================] - 0s 3ms/step - loss: 0.6613 - accuracy: 0.3387 - val_loss: 0.5833 - val_accuracy: 0.4167\n",
      "Epoch 11/20\n",
      "27/27 [==============================] - 0s 3ms/step - loss: 0.6613 - accuracy: 0.3387 - val_loss: 0.5833 - val_accuracy: 0.4167\n",
      "Epoch 12/20\n",
      "27/27 [==============================] - 0s 3ms/step - loss: 0.6613 - accuracy: 0.3387 - val_loss: 0.5833 - val_accuracy: 0.4167\n",
      "Epoch 13/20\n",
      "27/27 [==============================] - 0s 3ms/step - loss: 0.6613 - accuracy: 0.3387 - val_loss: 0.5833 - val_accuracy: 0.4167\n",
      "Epoch 14/20\n",
      "27/27 [==============================] - 0s 3ms/step - loss: 0.6613 - accuracy: 0.3387 - val_loss: 0.5833 - val_accuracy: 0.4167\n",
      "Epoch 15/20\n",
      "27/27 [==============================] - 0s 3ms/step - loss: 0.6613 - accuracy: 0.3387 - val_loss: 0.5833 - val_accuracy: 0.4167\n",
      "Epoch 16/20\n",
      "27/27 [==============================] - 0s 3ms/step - loss: 0.6613 - accuracy: 0.3387 - val_loss: 0.5833 - val_accuracy: 0.4167\n",
      "Epoch 17/20\n",
      "27/27 [==============================] - 0s 3ms/step - loss: 0.6613 - accuracy: 0.3387 - val_loss: 0.5833 - val_accuracy: 0.4167\n",
      "Epoch 18/20\n",
      "27/27 [==============================] - 0s 2ms/step - loss: 0.6613 - accuracy: 0.3387 - val_loss: 0.5833 - val_accuracy: 0.4167\n",
      "Epoch 19/20\n",
      "27/27 [==============================] - 0s 3ms/step - loss: 0.6613 - accuracy: 0.3387 - val_loss: 0.5833 - val_accuracy: 0.4167\n",
      "Epoch 20/20\n",
      "27/27 [==============================] - 0s 3ms/step - loss: 0.6613 - accuracy: 0.3387 - val_loss: 0.5833 - val_accuracy: 0.4167\n",
      "My model was trained for 20 epochs\n"
     ]
    }
   ],
   "source": [
    "history = model.fit(X_train, Y_train, validation_split = 0.25, epochs = 20, batch_size = 16)\n",
    "print(f\"My model was trained for {len(history.epoch)} epochs\")"
   ]
  },
  {
   "cell_type": "code",
   "execution_count": 57,
   "metadata": {},
   "outputs": [
    {
     "data": {
      "image/png": "[encoded data removed]",
      "text/plain": [
       "<Figure size 432x288 with 1 Axes>"
      ]
     },
     "metadata": {
      "needs_background": "light"
     },
     "output_type": "display_data"
    },
    {
     "name": "stdout",
     "output_type": "stream",
     "text": [
      "\n"
     ]
    },
    {
     "data": {
      "image/png": "[encoded data removed]",
      "text/plain": [
       "<Figure size 432x288 with 1 Axes>"
      ]
     },
     "metadata": {
      "needs_background": "light"
     },
     "output_type": "display_data"
    }
   ],
   "source": [
    "from matplotlib import pyplot as plt\n",
    "acc=history.history['accuracy']\n",
    "test_acc=history.history['val_accuracy']\n",
    "loss=history.history['loss']\n",
    "test_loss=history.history['val_loss']\n",
    "\n",
    "epochs=range(len(acc)) # Get number of epochs\n",
    "# Plot training and validation accuracy per epoch\n",
    "plt.plot(epochs, acc, 'r', \"Training Accuracy\")\n",
    "plt.plot(epochs, test_acc, 'b', \"Test Accuracy\")\n",
    "plt.title('Training and Test accuracy')\n",
    "plt.show()\n",
    "print(\"\")\n",
    "# Plot training and validation loss per epoch\n",
    "plt.plot(epochs, loss, 'r', \"Training Loss\")\n",
    "plt.plot(epochs, test_loss, 'b', \"Test Loss\")\n",
    "plt.show()"
   ]
  },
  {
   "cell_type": "code",
   "execution_count": 18,
   "metadata": {},
   "outputs": [
    {
     "name": "stdout",
     "output_type": "stream",
     "text": [
      "6/6 [==============================] - 0s 1ms/step\n",
      "[[  0 131]\n",
      " [  0  61]]\n"
     ]
    }
   ],
   "source": [
    "import sklearn\n",
    "y_pred = model.predict(X_test)\n",
    "confusion_matrix = sklearn.metrics.confusion_matrix(Y_test, np.rint(y_pred))\n",
    "print(confusion_matrix)"
   ]
  },
  {
   "cell_type": "markdown",
   "metadata": {},
   "source": [
    "DISCUSSION: Here we can see from the confusion matrix our 1st model does a very bad job at predicting test data. "
   ]
  },
  {
   "cell_type": "code",
   "execution_count": 59,
   "metadata": {},
   "outputs": [
    {
     "name": "stdout",
     "output_type": "stream",
     "text": [
      "6/6 [==============================] - 0s 3ms/step\n"
     ]
    },
    {
     "data": {
      "image/png": "[encoded data removed]",
      "text/plain": [
       "<Figure size 432x288 with 1 Axes>"
      ]
     },
     "metadata": {
      "needs_background": "light"
     },
     "output_type": "display_data"
    }
   ],
   "source": [
    "from sklearn.metrics import roc_curve\n",
    "y_pred_keras = model.predict(X_test).ravel()\n",
    "fpr_keras, tpr_keras, thresholds_keras = roc_curve(Y_test, y_pred_keras)\n",
    "plt.plot(fpr,tpr)\n",
    "plt.ylabel('True Positive Rate')\n",
    "plt.xlabel('False Positive Rate')\n",
    "plt.show()"
   ]
  },
  {
   "cell_type": "code",
   "execution_count": 37,
   "metadata": {},
   "outputs": [],
   "source": [
    "import matplotlib.pyplot as plt\n",
    "from sklearn.metrics import roc_auc_score, roc_curve\n",
    "\n",
    "# ROC Function\n",
    "def plot_roc_curve(Y_test, model_probs):\n",
    "\n",
    "    # calculate AUC\n",
    "    model_auc = roc_auc_score(Y_test, model_probs)\n",
    "    # summarize score\n",
    "    print('Model: ROC AUC=%.3f' % (model_auc))\n",
    "    # calculate ROC Curve\n",
    "    # For the actual model\n",
    "    model_fpr, model_tpr, _ = roc_curve(Y_test, model_probs)\n",
    "    # Plot the roc curve for the model and the random model line\n",
    "    plt.plot(model_fpr, model_tpr, marker='.', label='Model')\n",
    "    # Create labels for the axis\n",
    "    plt.xlabel('False Positive Rate')\n",
    "    plt.ylabel('True Positive Rate')\n",
    "    # show the legend\n",
    "    plt.legend()\n",
    "    # show the plot\n",
    "    plt.show()"
   ]
  },
  {
   "cell_type": "markdown",
   "metadata": {},
   "source": [
    "DISCUSSION: We see that the training and test accuracy are 33.87% and 41.67% respectively. These are low values and by their\n",
    "graph saturates after the 1st epoch which means there was no point training after the 1st epoch, this suggests high bias."
   ]
  },
  {
   "cell_type": "markdown",
   "metadata": {},
   "source": [
    "***MODEL 2***\n",
    "1. 2 dense layers with 16 and 32 units.\n",
    "2. Output layers with activation function as sigmoid.\n",
    "3. Optimizer = RMSprop, Loss = mean_squared_error\n",
    "4. epochs = 20\n",
    "5. batch size = 32"
   ]
  },
  {
   "cell_type": "code",
   "execution_count": 64,
   "metadata": {},
   "outputs": [],
   "source": [
    "model = tf.keras.models.Sequential([\n",
    "    tf.keras.layers.Dense(16, input_dim = 8, activation ='relu'),\n",
    "    tf.keras.layers.Dense(32, activation='relu'),\n",
    "    # Only 1 output neuron. It will contain a value from 0-1 where 0 for no diabetes and 1 for diabetes\n",
    "    tf.keras.layers.Dense(1, activation='sigmoid')\n",
    "])"
   ]
  },
  {
   "cell_type": "code",
   "execution_count": 65,
   "metadata": {},
   "outputs": [
    {
     "name": "stdout",
     "output_type": "stream",
     "text": [
      "Epoch 1/20\n",
      "27/27 [==============================] - 1s 10ms/step - loss: 0.6605 - accuracy: 0.3387 - val_loss: 0.5833 - val_accuracy: 0.4167\n",
      "Epoch 2/20\n",
      "27/27 [==============================] - 0s 3ms/step - loss: 0.6613 - accuracy: 0.3387 - val_loss: 0.5833 - val_accuracy: 0.4167\n",
      "Epoch 3/20\n",
      "27/27 [==============================] - 0s 3ms/step - loss: 0.6613 - accuracy: 0.3387 - val_loss: 0.5833 - val_accuracy: 0.4167\n",
      "Epoch 4/20\n",
      "27/27 [==============================] - 0s 3ms/step - loss: 0.6613 - accuracy: 0.3387 - val_loss: 0.5833 - val_accuracy: 0.4167\n",
      "Epoch 5/20\n",
      "27/27 [==============================] - 0s 3ms/step - loss: 0.6605 - accuracy: 0.3387 - val_loss: 0.4095 - val_accuracy: 0.5903\n",
      "Epoch 6/20\n",
      "27/27 [==============================] - 0s 3ms/step - loss: 0.3388 - accuracy: 0.6613 - val_loss: 0.4167 - val_accuracy: 0.5833\n",
      "Epoch 7/20\n",
      "27/27 [==============================] - 0s 3ms/step - loss: 0.3387 - accuracy: 0.6613 - val_loss: 0.4167 - val_accuracy: 0.5833\n",
      "Epoch 8/20\n",
      "27/27 [==============================] - 0s 3ms/step - loss: 0.3387 - accuracy: 0.6613 - val_loss: 0.4167 - val_accuracy: 0.5833\n",
      "Epoch 9/20\n",
      "27/27 [==============================] - 0s 3ms/step - loss: 0.3387 - accuracy: 0.6613 - val_loss: 0.4167 - val_accuracy: 0.5833\n",
      "Epoch 10/20\n",
      "27/27 [==============================] - 0s 3ms/step - loss: 0.3387 - accuracy: 0.6613 - val_loss: 0.4167 - val_accuracy: 0.5833\n",
      "Epoch 11/20\n",
      "27/27 [==============================] - 0s 3ms/step - loss: 0.3387 - accuracy: 0.6613 - val_loss: 0.4167 - val_accuracy: 0.5833\n",
      "Epoch 12/20\n",
      "27/27 [==============================] - 0s 2ms/step - loss: 0.3387 - accuracy: 0.6613 - val_loss: 0.4167 - val_accuracy: 0.5833\n",
      "Epoch 13/20\n",
      "27/27 [==============================] - 0s 3ms/step - loss: 0.3387 - accuracy: 0.6613 - val_loss: 0.4167 - val_accuracy: 0.5833\n",
      "Epoch 14/20\n",
      "27/27 [==============================] - 0s 3ms/step - loss: 0.3387 - accuracy: 0.6613 - val_loss: 0.4167 - val_accuracy: 0.5833\n",
      "Epoch 15/20\n",
      "27/27 [==============================] - 0s 3ms/step - loss: 0.3387 - accuracy: 0.6613 - val_loss: 0.4167 - val_accuracy: 0.5833\n",
      "Epoch 16/20\n",
      "27/27 [==============================] - 0s 3ms/step - loss: 0.3387 - accuracy: 0.6613 - val_loss: 0.4167 - val_accuracy: 0.5833\n",
      "Epoch 17/20\n",
      "27/27 [==============================] - 0s 3ms/step - loss: 0.3387 - accuracy: 0.6613 - val_loss: 0.4167 - val_accuracy: 0.5833\n",
      "Epoch 18/20\n",
      "27/27 [==============================] - 0s 3ms/step - loss: 0.3387 - accuracy: 0.6613 - val_loss: 0.4167 - val_accuracy: 0.5833\n",
      "Epoch 19/20\n",
      "27/27 [==============================] - 0s 2ms/step - loss: 0.3387 - accuracy: 0.6613 - val_loss: 0.4167 - val_accuracy: 0.5833\n",
      "Epoch 20/20\n",
      "27/27 [==============================] - 0s 3ms/step - loss: 0.3387 - accuracy: 0.6613 - val_loss: 0.4167 - val_accuracy: 0.5833\n",
      "My model was trained for 20 epochs\n"
     ]
    }
   ],
   "source": [
    "from tensorflow.keras.optimizers import RMSprop\n",
    "model.compile(optimizer = RMSprop(learning_rate = 0.01), loss='mean_squared_error', metrics = ['accuracy'])\n",
    "history = model.fit(X_train, Y_train, validation_split = 0.25, epochs = 20, batch_size = 16)\n",
    "print(f\"My model was trained for {len(history.epoch)} epochs\")"
   ]
  },
  {
   "cell_type": "code",
   "execution_count": 66,
   "metadata": {},
   "outputs": [
    {
     "data": {
      "image/png": "[encoded data removed]",
      "text/plain": [
       "<Figure size 432x288 with 1 Axes>"
      ]
     },
     "metadata": {
      "needs_background": "light"
     },
     "output_type": "display_data"
    },
    {
     "name": "stdout",
     "output_type": "stream",
     "text": [
      "\n"
     ]
    },
    {
     "data": {
      "image/png": "[encoded data removed]",
      "text/plain": [
       "<Figure size 432x288 with 1 Axes>"
      ]
     },
     "metadata": {
      "needs_background": "light"
     },
     "output_type": "display_data"
    }
   ],
   "source": [
    "from matplotlib import pyplot as plt\n",
    "acc=history.history['accuracy']\n",
    "test_acc=history.history['val_accuracy']\n",
    "loss=history.history['loss']\n",
    "test_loss=history.history['val_loss']\n",
    "\n",
    "epochs=range(len(acc)) # Get number of epochs\n",
    "# Plot training and validation accuracy per epoch\n",
    "plt.plot(epochs, acc, 'r', \"Training Accuracy\")\n",
    "plt.plot(epochs, test_acc, 'b', \"Test Accuracy\")\n",
    "plt.title('Training and Test accuracy')\n",
    "plt.show()\n",
    "print(\"\")\n",
    "# Plot training and validation loss per epoch\n",
    "plt.plot(epochs, loss, 'r', \"Training Loss\")\n",
    "plt.plot(epochs, test_loss, 'b', \"Test Loss\")\n",
    "plt.show()"
   ]
  },
  {
   "cell_type": "code",
   "execution_count": 67,
   "metadata": {},
   "outputs": [
    {
     "name": "stdout",
     "output_type": "stream",
     "text": [
      "6/6 [==============================] - 0s 5ms/step\n",
      "[[131   0]\n",
      " [ 61   0]]\n"
     ]
    }
   ],
   "source": [
    "import sklearn\n",
    "y_pred = model.predict(X_test)\n",
    "confusion_matrix = sklearn.metrics.confusion_matrix(Y_test, np.rint(y_pred))\n",
    "print(confusion_matrix)"
   ]
  },
  {
   "cell_type": "markdown",
   "metadata": {},
   "source": [
    "DISCUSSION: Here we can see from confusion matrix this model does a better job than predicting test data but still is not\n",
    "accurate in predicting true negatives."
   ]
  },
  {
   "cell_type": "code",
   "execution_count": 68,
   "metadata": {},
   "outputs": [
    {
     "data": {
      "image/png": "[encoded data removed]",
      "text/plain": [
       "<Figure size 432x288 with 1 Axes>"
      ]
     },
     "metadata": {
      "needs_background": "light"
     },
     "output_type": "display_data"
    }
   ],
   "source": [
    "y = log_regression.predict_proba(X_test)[::,1]\n",
    "fpr, tpr, _ = metrics.roc_curve(Y_test,  y)\n",
    "\n",
    "#create ROC curve\n",
    "plt.plot(fpr,tpr)\n",
    "plt.ylabel('True Positive Rate')\n",
    "plt.xlabel('False Positive Rate')\n",
    "plt.show()"
   ]
  },
  {
   "cell_type": "markdown",
   "metadata": {},
   "source": [
    "DISCUSSION: From above we see that our validation accuracy has improved by adding the sigmoid activation function to the\n",
    "output layer. But we still face the problem of saturation."
   ]
  },
  {
   "cell_type": "markdown",
   "metadata": {},
   "source": [
    "***MODEL 3***\n",
    "1. 2 dense layers with 16 and 32 units.\n",
    "2. Output layers with activation function as sigmoid.\n",
    "3. Optimizer = RMSprop, Loss = binary crossentropy\n",
    "4. epochs = 25\n",
    "5. batch size = 16"
   ]
  },
  {
   "cell_type": "code",
   "execution_count": 69,
   "metadata": {},
   "outputs": [],
   "source": [
    "model = tf.keras.models.Sequential([\n",
    "    tf.keras.layers.Dense(16, input_dim = 8, activation ='relu'),\n",
    "    tf.keras.layers.Dense(32, activation='relu'),\n",
    "    # Only 1 output neuron. It will contain a value from 0-1 where 0 for no diabetes and 1 for diabetes\n",
    "    tf.keras.layers.Dense(1, activation='sigmoid')\n",
    "])"
   ]
  },
  {
   "cell_type": "code",
   "execution_count": 70,
   "metadata": {},
   "outputs": [
    {
     "name": "stdout",
     "output_type": "stream",
     "text": [
      "Epoch 1/25\n",
      "27/27 [==============================] - 1s 11ms/step - loss: 6.8406 - accuracy: 0.5615 - val_loss: 5.7622 - val_accuracy: 0.4722\n",
      "Epoch 2/25\n",
      "27/27 [==============================] - 0s 3ms/step - loss: 2.9277 - accuracy: 0.5708 - val_loss: 2.1840 - val_accuracy: 0.5694\n",
      "Epoch 3/25\n",
      "27/27 [==============================] - 0s 3ms/step - loss: 1.8603 - accuracy: 0.5940 - val_loss: 1.5160 - val_accuracy: 0.5903\n",
      "Epoch 4/25\n",
      "27/27 [==============================] - 0s 3ms/step - loss: 1.3403 - accuracy: 0.5986 - val_loss: 0.8499 - val_accuracy: 0.5903\n",
      "Epoch 5/25\n",
      "27/27 [==============================] - 0s 3ms/step - loss: 0.9681 - accuracy: 0.5963 - val_loss: 1.0042 - val_accuracy: 0.6111\n",
      "Epoch 6/25\n",
      "27/27 [==============================] - 0s 3ms/step - loss: 0.8279 - accuracy: 0.5940 - val_loss: 1.0164 - val_accuracy: 0.5417\n",
      "Epoch 7/25\n",
      "27/27 [==============================] - 0s 3ms/step - loss: 0.7825 - accuracy: 0.6357 - val_loss: 0.7483 - val_accuracy: 0.6111\n",
      "Epoch 8/25\n",
      "27/27 [==============================] - 0s 3ms/step - loss: 0.7196 - accuracy: 0.6265 - val_loss: 0.6957 - val_accuracy: 0.5833\n",
      "Epoch 9/25\n",
      "27/27 [==============================] - 0s 3ms/step - loss: 0.6693 - accuracy: 0.6520 - val_loss: 0.8132 - val_accuracy: 0.5625\n",
      "Epoch 10/25\n",
      "27/27 [==============================] - 0s 3ms/step - loss: 0.6174 - accuracy: 0.7053 - val_loss: 0.7468 - val_accuracy: 0.6389\n",
      "Epoch 11/25\n",
      "27/27 [==============================] - 0s 3ms/step - loss: 0.6359 - accuracy: 0.6682 - val_loss: 0.6905 - val_accuracy: 0.5903\n",
      "Epoch 12/25\n",
      "27/27 [==============================] - 0s 3ms/step - loss: 0.6195 - accuracy: 0.6613 - val_loss: 0.6870 - val_accuracy: 0.6250\n",
      "Epoch 13/25\n",
      "27/27 [==============================] - 0s 3ms/step - loss: 0.5981 - accuracy: 0.7123 - val_loss: 0.6970 - val_accuracy: 0.6111\n",
      "Epoch 14/25\n",
      "27/27 [==============================] - 0s 3ms/step - loss: 0.6014 - accuracy: 0.6984 - val_loss: 0.6769 - val_accuracy: 0.6111\n",
      "Epoch 15/25\n",
      "27/27 [==============================] - 0s 3ms/step - loss: 0.5942 - accuracy: 0.6891 - val_loss: 0.7040 - val_accuracy: 0.6111\n",
      "Epoch 16/25\n",
      "27/27 [==============================] - 0s 3ms/step - loss: 0.5832 - accuracy: 0.7030 - val_loss: 0.7160 - val_accuracy: 0.6389\n",
      "Epoch 17/25\n",
      "27/27 [==============================] - 0s 3ms/step - loss: 0.5881 - accuracy: 0.6868 - val_loss: 0.7016 - val_accuracy: 0.6458\n",
      "Epoch 18/25\n",
      "27/27 [==============================] - 0s 3ms/step - loss: 0.5891 - accuracy: 0.6961 - val_loss: 0.7042 - val_accuracy: 0.6319\n",
      "Epoch 19/25\n",
      "27/27 [==============================] - 0s 2ms/step - loss: 0.5823 - accuracy: 0.7077 - val_loss: 0.7085 - val_accuracy: 0.6528\n",
      "Epoch 20/25\n",
      "27/27 [==============================] - 0s 3ms/step - loss: 0.5588 - accuracy: 0.7216 - val_loss: 0.7650 - val_accuracy: 0.6389\n",
      "Epoch 21/25\n",
      "27/27 [==============================] - 0s 3ms/step - loss: 0.5893 - accuracy: 0.7053 - val_loss: 0.6844 - val_accuracy: 0.6597\n",
      "Epoch 22/25\n",
      "27/27 [==============================] - 0s 3ms/step - loss: 0.5772 - accuracy: 0.7285 - val_loss: 0.7309 - val_accuracy: 0.6458\n",
      "Epoch 23/25\n",
      "27/27 [==============================] - 0s 3ms/step - loss: 0.5737 - accuracy: 0.7077 - val_loss: 0.7967 - val_accuracy: 0.6250\n",
      "Epoch 24/25\n",
      "27/27 [==============================] - 0s 3ms/step - loss: 0.5811 - accuracy: 0.7100 - val_loss: 0.7075 - val_accuracy: 0.6528\n",
      "Epoch 25/25\n",
      "27/27 [==============================] - 0s 3ms/step - loss: 0.5690 - accuracy: 0.7030 - val_loss: 0.6895 - val_accuracy: 0.6389\n",
      "My model was trained for 25 epochs\n"
     ]
    }
   ],
   "source": [
    "from tensorflow.keras.optimizers import RMSprop\n",
    "model.compile(optimizer = RMSprop(learning_rate = 0.01), loss='binary_crossentropy', metrics = ['accuracy'])\n",
    "history = model.fit(X_train, Y_train, validation_split = 0.25, epochs = 25, batch_size = 16)\n",
    "print(f\"My model was trained for {len(history.epoch)} epochs\")"
   ]
  },
  {
   "cell_type": "code",
   "execution_count": 71,
   "metadata": {},
   "outputs": [
    {
     "data": {
      "image/png": "[encoded data removed]",
      "text/plain": [
       "<Figure size 432x288 with 1 Axes>"
      ]
     },
     "metadata": {
      "needs_background": "light"
     },
     "output_type": "display_data"
    },
    {
     "name": "stdout",
     "output_type": "stream",
     "text": [
      "\n"
     ]
    },
    {
     "data": {
      "image/png": "[encoded data removed]",
      "text/plain": [
       "<Figure size 432x288 with 1 Axes>"
      ]
     },
     "metadata": {
      "needs_background": "light"
     },
     "output_type": "display_data"
    }
   ],
   "source": [
    "from matplotlib import pyplot as plt\n",
    "acc=history.history['accuracy']\n",
    "test_acc=history.history['val_accuracy']\n",
    "loss=history.history['loss']\n",
    "test_loss=history.history['val_loss']\n",
    "\n",
    "epochs=range(len(acc)) # Get number of epochs\n",
    "# Plot training and validation accuracy per epoch\n",
    "plt.plot(epochs, acc, 'r', \"Training Accuracy\")\n",
    "plt.plot(epochs, test_acc, 'b', \"Test Accuracy\")\n",
    "plt.title('Training and Test accuracy')\n",
    "plt.show()\n",
    "print(\"\")\n",
    "# Plot training and validation loss per epoch\n",
    "plt.plot(epochs, loss, 'r', \"Training Loss\")\n",
    "plt.plot(epochs, test_loss, 'b', \"Test Loss\")\n",
    "plt.show()"
   ]
  },
  {
   "cell_type": "code",
   "execution_count": 72,
   "metadata": {},
   "outputs": [
    {
     "name": "stdout",
     "output_type": "stream",
     "text": [
      "6/6 [==============================] - 0s 4ms/step\n",
      "[[109  22]\n",
      " [ 23  38]]\n"
     ]
    }
   ],
   "source": [
    "import sklearn\n",
    "y_pred = model.predict(X_test)\n",
    "confusion_matrix = sklearn.metrics.confusion_matrix(Y_test, np.rint(y_pred))\n",
    "print(confusion_matrix)"
   ]
  },
  {
   "cell_type": "code",
   "execution_count": 73,
   "metadata": {},
   "outputs": [
    {
     "name": "stdout",
     "output_type": "stream",
     "text": [
      "6/6 [==============================] - 0s 2ms/step\n"
     ]
    },
    {
     "data": {
      "image/png": "[encoded data removed]",
      "text/plain": [
       "<Figure size 432x288 with 1 Axes>"
      ]
     },
     "metadata": {
      "needs_background": "light"
     },
     "output_type": "display_data"
    }
   ],
   "source": [
    "from sklearn.metrics import roc_curve\n",
    "y_pred_keras = model.predict(X_test).ravel()\n",
    "fpr_keras, tpr_keras, thresholds_keras = roc_curve(Y_test, y_pred_keras)\n",
    "plt.plot(fpr,tpr)\n",
    "plt.ylabel('True Positive Rate')\n",
    "plt.xlabel('False Positive Rate')\n",
    "plt.show()"
   ]
  },
  {
   "cell_type": "markdown",
   "metadata": {},
   "source": [
    "DISCUSSION: We have attained high accuracy for both training and validation datasets, this highlights the importance of\n",
    "choosing the right loss function for the DNN. The model does a good job predicting true positives and negatives. Let's try and tweak the optimizer to see if we can achieve a better model thus higher accuracy."
   ]
  },
  {
   "cell_type": "markdown",
   "metadata": {},
   "source": [
    "***MODEL 4***\n",
    "1. 2 dense layers with 16 and 32 units.\n",
    "2. Output layers with activation function as sigmoid.\n",
    "3. Optimizer = Adam, Loss = binary crossentropy\n",
    "4. epochs = 25\n",
    "5. batch size = 16"
   ]
  },
  {
   "cell_type": "code",
   "execution_count": 100,
   "metadata": {},
   "outputs": [],
   "source": [
    "model = tf.keras.models.Sequential([\n",
    "    tf.keras.layers.Dense(16, input_dim = 8, activation ='relu'),\n",
    "    tf.keras.layers.Dense(32, activation='relu'),\n",
    "    # Only 1 output neuron. It will contain a value from 0-1 where 0 for no diabetes and 1 for diabetes\n",
    "    tf.keras.layers.Dense(1, activation='sigmoid')\n",
    "])"
   ]
  },
  {
   "cell_type": "code",
   "execution_count": 102,
   "metadata": {},
   "outputs": [
    {
     "name": "stdout",
     "output_type": "stream",
     "text": [
      "Epoch 1/25\n",
      "27/27 [==============================] - 1s 10ms/step - loss: 0.8289 - accuracy: 0.6613 - val_loss: 0.9659 - val_accuracy: 0.6042\n",
      "Epoch 2/25\n",
      "27/27 [==============================] - 0s 3ms/step - loss: 0.6445 - accuracy: 0.6752 - val_loss: 0.7919 - val_accuracy: 0.6389\n",
      "Epoch 3/25\n",
      "27/27 [==============================] - 0s 3ms/step - loss: 0.5864 - accuracy: 0.6914 - val_loss: 0.7714 - val_accuracy: 0.6528\n",
      "Epoch 4/25\n",
      "27/27 [==============================] - 0s 3ms/step - loss: 0.5784 - accuracy: 0.7169 - val_loss: 0.7613 - val_accuracy: 0.6458\n",
      "Epoch 5/25\n",
      "27/27 [==============================] - 0s 3ms/step - loss: 0.5705 - accuracy: 0.6937 - val_loss: 0.7777 - val_accuracy: 0.6528\n",
      "Epoch 6/25\n",
      "27/27 [==============================] - 0s 3ms/step - loss: 0.5718 - accuracy: 0.6937 - val_loss: 0.7568 - val_accuracy: 0.6528\n",
      "Epoch 7/25\n",
      "27/27 [==============================] - 0s 3ms/step - loss: 0.5874 - accuracy: 0.7077 - val_loss: 0.7533 - val_accuracy: 0.6736\n",
      "Epoch 8/25\n",
      "27/27 [==============================] - 0s 3ms/step - loss: 0.5872 - accuracy: 0.6868 - val_loss: 0.6572 - val_accuracy: 0.6944\n",
      "Epoch 9/25\n",
      "27/27 [==============================] - 0s 3ms/step - loss: 0.5659 - accuracy: 0.7216 - val_loss: 0.7008 - val_accuracy: 0.6806\n",
      "Epoch 10/25\n",
      "27/27 [==============================] - 0s 3ms/step - loss: 0.5551 - accuracy: 0.7193 - val_loss: 0.7300 - val_accuracy: 0.6528\n",
      "Epoch 11/25\n",
      "27/27 [==============================] - 0s 3ms/step - loss: 0.5577 - accuracy: 0.7007 - val_loss: 0.6721 - val_accuracy: 0.6806\n",
      "Epoch 12/25\n",
      "27/27 [==============================] - 0s 3ms/step - loss: 0.6510 - accuracy: 0.6775 - val_loss: 0.8771 - val_accuracy: 0.6250\n",
      "Epoch 13/25\n",
      "27/27 [==============================] - 0s 3ms/step - loss: 0.5947 - accuracy: 0.6961 - val_loss: 0.6748 - val_accuracy: 0.7014\n",
      "Epoch 14/25\n",
      "27/27 [==============================] - 0s 3ms/step - loss: 0.6219 - accuracy: 0.7007 - val_loss: 0.6779 - val_accuracy: 0.6667\n",
      "Epoch 15/25\n",
      "27/27 [==============================] - 0s 3ms/step - loss: 0.5285 - accuracy: 0.7587 - val_loss: 0.7767 - val_accuracy: 0.6667\n",
      "Epoch 16/25\n",
      "27/27 [==============================] - 0s 3ms/step - loss: 0.5607 - accuracy: 0.7030 - val_loss: 0.6479 - val_accuracy: 0.6944\n",
      "Epoch 17/25\n",
      "27/27 [==============================] - 0s 3ms/step - loss: 0.5688 - accuracy: 0.7077 - val_loss: 0.7231 - val_accuracy: 0.6875\n",
      "Epoch 18/25\n",
      "27/27 [==============================] - 0s 3ms/step - loss: 0.5335 - accuracy: 0.7425 - val_loss: 0.6724 - val_accuracy: 0.7083\n",
      "Epoch 19/25\n",
      "27/27 [==============================] - 0s 3ms/step - loss: 0.6317 - accuracy: 0.6682 - val_loss: 0.9321 - val_accuracy: 0.5903\n",
      "Epoch 20/25\n",
      "27/27 [==============================] - 0s 3ms/step - loss: 0.5860 - accuracy: 0.7262 - val_loss: 0.8399 - val_accuracy: 0.6042\n",
      "Epoch 21/25\n",
      "27/27 [==============================] - 0s 3ms/step - loss: 0.5774 - accuracy: 0.7030 - val_loss: 0.7566 - val_accuracy: 0.6597\n",
      "Epoch 22/25\n",
      "27/27 [==============================] - 0s 3ms/step - loss: 0.6320 - accuracy: 0.6798 - val_loss: 0.7833 - val_accuracy: 0.6806\n",
      "Epoch 23/25\n",
      "27/27 [==============================] - 0s 3ms/step - loss: 0.5525 - accuracy: 0.7309 - val_loss: 0.6792 - val_accuracy: 0.6528\n",
      "Epoch 24/25\n",
      "27/27 [==============================] - 0s 3ms/step - loss: 0.5339 - accuracy: 0.7216 - val_loss: 0.7486 - val_accuracy: 0.6736\n",
      "Epoch 25/25\n",
      "27/27 [==============================] - 0s 3ms/step - loss: 0.5827 - accuracy: 0.6798 - val_loss: 0.8510 - val_accuracy: 0.6458\n",
      "My model was trained for 25 epochs\n"
     ]
    }
   ],
   "source": [
    "model.compile(optimizer = 'Adam', loss='binary_crossentropy', metrics = ['accuracy'])\n",
    "history = model.fit(X_train, Y_train, validation_split = 0.25, epochs = 25, batch_size = 16)\n",
    "print(f\"My model was trained for {len(history.epoch)} epochs\")"
   ]
  },
  {
   "cell_type": "code",
   "execution_count": 84,
   "metadata": {},
   "outputs": [],
   "source": [
    "model.save_weights(filepath='final_weight.BIN')"
   ]
  },
  {
   "cell_type": "code",
   "execution_count": 83,
   "metadata": {},
   "outputs": [
    {
     "data": {
      "image/png": "[encoded data removed]",
      "text/plain": [
       "<Figure size 432x288 with 1 Axes>"
      ]
     },
     "metadata": {
      "needs_background": "light"
     },
     "output_type": "display_data"
    },
    {
     "name": "stdout",
     "output_type": "stream",
     "text": [
      "\n"
     ]
    },
    {
     "data": {
      "image/png": "[encoded data removed]",
      "text/plain": [
       "<Figure size 432x288 with 1 Axes>"
      ]
     },
     "metadata": {
      "needs_background": "light"
     },
     "output_type": "display_data"
    }
   ],
   "source": [
    "from matplotlib import pyplot as plt\n",
    "acc=history.history['accuracy']\n",
    "test_acc=history.history['val_accuracy']\n",
    "loss=history.history['loss']\n",
    "test_loss=history.history['val_loss']\n",
    "\n",
    "epochs=range(len(acc)) # Get number of epochs\n",
    "# Plot training and validation accuracy per epoch\n",
    "plt.plot(epochs, acc, 'r', \"Training Accuracy\")\n",
    "plt.plot(epochs, test_acc, 'b', \"Test Accuracy\")\n",
    "plt.title('Training and Test accuracy')\n",
    "plt.show()\n",
    "print(\"\")\n",
    "# Plot training and validation loss per epoch\n",
    "plt.plot(epochs, loss, 'r', \"Training Loss\")\n",
    "plt.plot(epochs, test_loss, 'b', \"Test Loss\")\n",
    "plt.show()"
   ]
  },
  {
   "cell_type": "code",
   "execution_count": 85,
   "metadata": {},
   "outputs": [
    {
     "name": "stdout",
     "output_type": "stream",
     "text": [
      "6/6 [==============================] - 0s 2ms/step\n",
      "[[114  17]\n",
      " [ 26  35]]\n"
     ]
    }
   ],
   "source": [
    "import sklearn\n",
    "y_pred = model.predict(X_test)\n",
    "confusion_matrix = sklearn.metrics.confusion_matrix(Y_test, np.rint(y_pred))\n",
    "print(confusion_matrix)"
   ]
  },
  {
   "cell_type": "code",
   "execution_count": 86,
   "metadata": {},
   "outputs": [
    {
     "data": {
      "image/png": "[encoded data removed]",
      "text/plain": [
       "<Figure size 432x288 with 1 Axes>"
      ]
     },
     "metadata": {
      "needs_background": "light"
     },
     "output_type": "display_data"
    }
   ],
   "source": [
    "y = log_regression.predict_proba(X_test)[::,1]\n",
    "fpr, tpr, _ = metrics.roc_curve(Y_test,  y)\n",
    "\n",
    "#create ROC curve\n",
    "plt.plot(fpr,tpr)\n",
    "plt.ylabel('True Positive Rate')\n",
    "plt.xlabel('False Positive Rate')\n",
    "plt.show()"
   ]
  },
  {
   "cell_type": "markdown",
   "metadata": {},
   "source": [
    "DISCUSSION: For our scenario we can see the Adam optimizer function performs better than RMSprop optimizer. So we will stick to model 4 where optimizer = Adam and loss = binary crossentropy."
   ]
  },
  {
   "cell_type": "markdown",
   "metadata": {},
   "source": [
    "***USING KERAS TUNER***"
   ]
  },
  {
   "cell_type": "code",
   "execution_count": 43,
   "metadata": {},
   "outputs": [
    {
     "name": "stdout",
     "output_type": "stream",
     "text": [
      "Collecting keras-tuner\n",
      "  Downloading keras_tuner-1.1.3-py3-none-any.whl (135 kB)\n",
      "     -------------------------------------- 135.7/135.7 kB 1.2 MB/s eta 0:00:00\n",
      "Requirement already satisfied: requests in c:\\users\\vibhav\\anaconda3\\lib\\site-packages (from keras-tuner) (2.21.0)\n",
      "Requirement already satisfied: ipython in c:\\users\\vibhav\\anaconda3\\lib\\site-packages (from keras-tuner) (8.2.0)\n",
      "Requirement already satisfied: packaging in c:\\users\\vibhav\\anaconda3\\lib\\site-packages (from keras-tuner) (21.3)\n",
      "Requirement already satisfied: numpy in c:\\users\\vibhav\\anaconda3\\lib\\site-packages (from keras-tuner) (1.22.4)\n",
      "Requirement already satisfied: tensorboard in c:\\users\\vibhav\\anaconda3\\lib\\site-packages (from keras-tuner) (2.11.2)\n",
      "Collecting kt-legacy\n",
      "  Downloading kt_legacy-1.0.4-py3-none-any.whl (9.6 kB)\n",
      "Requirement already satisfied: colorama in c:\\users\\vibhav\\anaconda3\\lib\\site-packages (from ipython->keras-tuner) (0.4.4)\n",
      "Requirement already satisfied: traitlets>=5 in c:\\users\\vibhav\\anaconda3\\lib\\site-packages (from ipython->keras-tuner) (5.1.1)\n",
      "Requirement already satisfied: decorator in c:\\users\\vibhav\\anaconda3\\lib\\site-packages (from ipython->keras-tuner) (5.1.1)\n",
      "Requirement already satisfied: backcall in c:\\users\\vibhav\\anaconda3\\lib\\site-packages (from ipython->keras-tuner) (0.2.0)\n",
      "Requirement already satisfied: jedi>=0.16 in c:\\users\\vibhav\\anaconda3\\lib\\site-packages (from ipython->keras-tuner) (0.18.1)\n",
      "Requirement already satisfied: pygments>=2.4.0 in c:\\users\\vibhav\\anaconda3\\lib\\site-packages (from ipython->keras-tuner) (2.11.2)\n",
      "Requirement already satisfied: setuptools>=18.5 in c:\\users\\vibhav\\anaconda3\\lib\\site-packages (from ipython->keras-tuner) (61.2.0)\n",
      "Requirement already satisfied: matplotlib-inline in c:\\users\\vibhav\\anaconda3\\lib\\site-packages (from ipython->keras-tuner) (0.1.2)\n",
      "Requirement already satisfied: stack-data in c:\\users\\vibhav\\anaconda3\\lib\\site-packages (from ipython->keras-tuner) (0.2.0)\n",
      "Requirement already satisfied: prompt-toolkit!=3.0.0,!=3.0.1,<3.1.0,>=2.0.0 in c:\\users\\vibhav\\anaconda3\\lib\\site-packages (from ipython->keras-tuner) (3.0.36)\n",
      "Requirement already satisfied: pickleshare in c:\\users\\vibhav\\anaconda3\\lib\\site-packages (from ipython->keras-tuner) (0.7.5)\n",
      "Requirement already satisfied: pyparsing!=3.0.5,>=2.0.2 in c:\\users\\vibhav\\anaconda3\\lib\\site-packages (from packaging->keras-tuner) (3.0.4)\n",
      "Collecting urllib3<1.25,>=1.21.1\n",
      "  Using cached urllib3-1.24.3-py2.py3-none-any.whl (118 kB)\n",
      "Requirement already satisfied: certifi>=2017.4.17 in c:\\users\\vibhav\\anaconda3\\lib\\site-packages (from requests->keras-tuner) (2021.10.8)\n",
      "Requirement already satisfied: chardet<3.1.0,>=3.0.2 in c:\\users\\vibhav\\anaconda3\\lib\\site-packages (from requests->keras-tuner) (3.0.4)\n",
      "Requirement already satisfied: idna<2.9,>=2.5 in c:\\users\\vibhav\\anaconda3\\lib\\site-packages (from requests->keras-tuner) (2.8)\n",
      "Collecting google-auth<3,>=1.6.3\n",
      "  Downloading google_auth-2.16.0-py2.py3-none-any.whl (177 kB)\n",
      "     -------------------------------------- 177.8/177.8 kB 3.6 MB/s eta 0:00:00\n",
      "Requirement already satisfied: grpcio>=1.24.3 in c:\\users\\vibhav\\anaconda3\\lib\\site-packages (from tensorboard->keras-tuner) (1.42.0)\n",
      "Requirement already satisfied: wheel>=0.26 in c:\\users\\vibhav\\anaconda3\\lib\\site-packages (from tensorboard->keras-tuner) (0.37.1)\n",
      "Requirement already satisfied: absl-py>=0.4 in c:\\users\\vibhav\\anaconda3\\lib\\site-packages (from tensorboard->keras-tuner) (1.4.0)\n",
      "Requirement already satisfied: tensorboard-data-server<0.7.0,>=0.6.0 in c:\\users\\vibhav\\anaconda3\\lib\\site-packages (from tensorboard->keras-tuner) (0.6.1)\n",
      "Requirement already satisfied: protobuf<4,>=3.9.2 in c:\\users\\vibhav\\anaconda3\\lib\\site-packages (from tensorboard->keras-tuner) (3.19.1)\n",
      "Requirement already satisfied: google-auth-oauthlib<0.5,>=0.4.1 in c:\\users\\vibhav\\anaconda3\\lib\\site-packages (from tensorboard->keras-tuner) (0.4.6)\n",
      "Requirement already satisfied: tensorboard-plugin-wit>=1.6.0 in c:\\users\\vibhav\\anaconda3\\lib\\site-packages (from tensorboard->keras-tuner) (1.8.1)\n",
      "Requirement already satisfied: markdown>=2.6.8 in c:\\users\\vibhav\\anaconda3\\lib\\site-packages (from tensorboard->keras-tuner) (3.3.4)\n",
      "Requirement already satisfied: werkzeug>=1.0.1 in c:\\users\\vibhav\\anaconda3\\lib\\site-packages (from tensorboard->keras-tuner) (2.0.3)\n",
      "Requirement already satisfied: rsa<5,>=3.1.4 in c:\\users\\vibhav\\anaconda3\\lib\\site-packages (from google-auth<3,>=1.6.3->tensorboard->keras-tuner) (4.7.2)\n",
      "Requirement already satisfied: six>=1.9.0 in c:\\users\\vibhav\\anaconda3\\lib\\site-packages (from google-auth<3,>=1.6.3->tensorboard->keras-tuner) (1.12.0)\n",
      "Requirement already satisfied: pyasn1-modules>=0.2.1 in c:\\users\\vibhav\\anaconda3\\lib\\site-packages (from google-auth<3,>=1.6.3->tensorboard->keras-tuner) (0.2.8)\n",
      "Requirement already satisfied: cachetools<6.0,>=2.0.0 in c:\\users\\vibhav\\anaconda3\\lib\\site-packages (from google-auth<3,>=1.6.3->tensorboard->keras-tuner) (4.2.2)\n",
      "Requirement already satisfied: requests-oauthlib>=0.7.0 in c:\\users\\vibhav\\anaconda3\\lib\\site-packages (from google-auth-oauthlib<0.5,>=0.4.1->tensorboard->keras-tuner) (1.3.1)\n",
      "Requirement already satisfied: parso<0.9.0,>=0.8.0 in c:\\users\\vibhav\\anaconda3\\lib\\site-packages (from jedi>=0.16->ipython->keras-tuner) (0.8.3)\n",
      "Requirement already satisfied: wcwidth in c:\\users\\vibhav\\anaconda3\\lib\\site-packages (from prompt-toolkit!=3.0.0,!=3.0.1,<3.1.0,>=2.0.0->ipython->keras-tuner) (0.2.5)\n",
      "Requirement already satisfied: asttokens in c:\\users\\vibhav\\anaconda3\\lib\\site-packages (from stack-data->ipython->keras-tuner) (2.0.5)\n",
      "Requirement already satisfied: executing in c:\\users\\vibhav\\anaconda3\\lib\\site-packages (from stack-data->ipython->keras-tuner) (0.8.3)\n",
      "Requirement already satisfied: pure-eval in c:\\users\\vibhav\\anaconda3\\lib\\site-packages (from stack-data->ipython->keras-tuner) (0.2.2)\n",
      "Requirement already satisfied: pyasn1<0.5.0,>=0.4.6 in c:\\users\\vibhav\\anaconda3\\lib\\site-packages (from pyasn1-modules>=0.2.1->google-auth<3,>=1.6.3->tensorboard->keras-tuner) (0.4.8)\n",
      "Requirement already satisfied: oauthlib>=3.0.0 in c:\\users\\vibhav\\anaconda3\\lib\\site-packages (from requests-oauthlib>=0.7.0->google-auth-oauthlib<0.5,>=0.4.1->tensorboard->keras-tuner) (3.2.2)\n",
      "Installing collected packages: kt-legacy, urllib3, google-auth, keras-tuner\n",
      "  Attempting uninstall: urllib3\n",
      "    Found existing installation: urllib3 1.26.14\n",
      "    Uninstalling urllib3-1.26.14:\n",
      "      Successfully uninstalled urllib3-1.26.14\n",
      "  Attempting uninstall: google-auth\n",
      "    Found existing installation: google-auth 1.4.2\n",
      "    Uninstalling google-auth-1.4.2:\n",
      "      Successfully uninstalled google-auth-1.4.2\n",
      "Successfully installed google-auth-2.16.0 keras-tuner-1.1.3 kt-legacy-1.0.4 urllib3-1.24.3\n"
     ]
    },
    {
     "name": "stderr",
     "output_type": "stream",
     "text": [
      "ERROR: pip's dependency resolver does not currently take into account all the packages that are installed. This behaviour is the source of the following dependency conflicts.\n",
      "conda-repo-cli 1.0.4 requires pathlib, which is not installed.\n",
      "anaconda-project 0.10.2 requires ruamel-yaml, which is not installed.\n",
      "pyppeteer 1.0.2 requires urllib3<2.0.0,>=1.25.8, but you have urllib3 1.24.3 which is incompatible.\n",
      "google-cloud-storage 1.31.0 requires google-auth<2.0dev,>=1.11.0, but you have google-auth 2.16.0 which is incompatible.\n",
      "google-cloud-core 1.7.1 requires google-auth<2.0dev,>=1.24.0, but you have google-auth 2.16.0 which is incompatible.\n",
      "google-api-core 1.25.1 requires google-auth<2.0dev,>=1.21.1, but you have google-auth 2.16.0 which is incompatible.\n",
      "google-api-core 1.25.1 requires six>=1.13.0, but you have six 1.12.0 which is incompatible.\n",
      "cookiecutter 1.7.3 requires requests>=2.23.0, but you have requests 2.21.0 which is incompatible.\n",
      "botocore 1.24.32 requires urllib3<1.27,>=1.25.4, but you have urllib3 1.24.3 which is incompatible.\n"
     ]
    }
   ],
   "source": [
    "!pip install keras-tuner"
   ]
  },
  {
   "cell_type": "code",
   "execution_count": 87,
   "metadata": {},
   "outputs": [
    {
     "name": "stderr",
     "output_type": "stream",
     "text": [
      "C:\\Users\\Vibhav\\AppData\\Local\\Temp\\ipykernel_7028\\1984828175.py:2: DeprecationWarning: `import kerastuner` is deprecated, please use `import keras_tuner`.\n",
      "  import kerastuner as kt\n"
     ]
    }
   ],
   "source": [
    "import tensorflow as tf\n",
    "import kerastuner as kt"
   ]
  },
  {
   "cell_type": "code",
   "execution_count": 88,
   "metadata": {},
   "outputs": [],
   "source": [
    "from tensorflow.keras import layers\n",
    "\n",
    "\n",
    "def build_model(hp):\n",
    "    model = keras.Sequential()\n",
    "    model.add(layers.Dense(16, input_dim =8, activation = 'relu'))\n",
    "    model.add(layers.Dense(32, activation = 'relu'))\n",
    "    model.add(\n",
    "        layers.Dense(\n",
    "            # Define the hyperparameter.\n",
    "            units=hp.Int(\"units\", min_value=32, max_value=512, step=32),\n",
    "            activation=\"relu\",\n",
    "        )\n",
    "    )\n",
    "    model.add(layers.Dense(1, activation=\"sigmoid\"))\n",
    "    model.compile(\n",
    "        optimizer='Adam', loss=\"binary_crossentropy\", metrics=[\"accuracy\"]\n",
    "    )\n",
    "    return model"
   ]
  },
  {
   "cell_type": "code",
   "execution_count": 89,
   "metadata": {},
   "outputs": [
    {
     "data": {
      "text/plain": [
       "<keras.engine.sequential.Sequential at 0x18a8c30f790>"
      ]
     },
     "execution_count": 89,
     "metadata": {},
     "output_type": "execute_result"
    }
   ],
   "source": [
    "import keras_tuner\n",
    "\n",
    "build_model(keras_tuner.HyperParameters())"
   ]
  },
  {
   "cell_type": "code",
   "execution_count": 103,
   "metadata": {},
   "outputs": [],
   "source": [
    "tuner = keras_tuner.RandomSearch(\n",
    "    hypermodel=build_model,\n",
    "    objective=\"val_accuracy\",\n",
    "    max_trials=20,\n",
    "    executions_per_trial=2,\n",
    "    overwrite=True,\n",
    "    directory=\"my_dir\",\n",
    "    project_name=\"assignment1\",\n",
    ")"
   ]
  },
  {
   "cell_type": "code",
   "execution_count": 104,
   "metadata": {},
   "outputs": [
    {
     "name": "stdout",
     "output_type": "stream",
     "text": [
      "Search space summary\n",
      "Default search space size: 1\n",
      "units (Int)\n",
      "{'default': None, 'conditions': [], 'min_value': 32, 'max_value': 512, 'step': 32, 'sampling': None}\n"
     ]
    }
   ],
   "source": [
    "tuner.search_space_summary()"
   ]
  },
  {
   "cell_type": "code",
   "execution_count": 105,
   "metadata": {},
   "outputs": [
    {
     "name": "stdout",
     "output_type": "stream",
     "text": [
      "Trial 16 Complete [00h 00m 03s]\n",
      "val_accuracy: 0.6666666567325592\n",
      "\n",
      "Best val_accuracy So Far: 0.7109375\n",
      "Total elapsed time: 00h 00m 49s\n",
      "INFO:tensorflow:Oracle triggered exit\n"
     ]
    }
   ],
   "source": [
    "tuner.search(X_train, Y_train, epochs=2, validation_data=(X_test, Y_test))"
   ]
  },
  {
   "cell_type": "code",
   "execution_count": 106,
   "metadata": {},
   "outputs": [
    {
     "name": "stdout",
     "output_type": "stream",
     "text": [
      "Results summary\n",
      "Results in my_dir\\assignment1\n",
      "Showing 10 best trials\n",
      "<keras_tuner.engine.objective.Objective object at 0x0000018A93171F40>\n",
      "Trial summary\n",
      "Hyperparameters:\n",
      "units: 384\n",
      "Score: 0.7109375\n",
      "Trial summary\n",
      "Hyperparameters:\n",
      "units: 288\n",
      "Score: 0.7083333134651184\n",
      "Trial summary\n",
      "Hyperparameters:\n",
      "units: 512\n",
      "Score: 0.7005208432674408\n",
      "Trial summary\n",
      "Hyperparameters:\n",
      "units: 320\n",
      "Score: 0.6901041567325592\n",
      "Trial summary\n",
      "Hyperparameters:\n",
      "units: 352\n",
      "Score: 0.6848958432674408\n",
      "Trial summary\n",
      "Hyperparameters:\n",
      "units: 448\n",
      "Score: 0.6822916865348816\n",
      "Trial summary\n",
      "Hyperparameters:\n",
      "units: 416\n",
      "Score: 0.671875\n",
      "Trial summary\n",
      "Hyperparameters:\n",
      "units: 256\n",
      "Score: 0.671875\n",
      "Trial summary\n",
      "Hyperparameters:\n",
      "units: 96\n",
      "Score: 0.6692708432674408\n",
      "Trial summary\n",
      "Hyperparameters:\n",
      "units: 160\n",
      "Score: 0.6666666567325592\n"
     ]
    }
   ],
   "source": [
    "tuner.results_summary()"
   ]
  },
  {
   "cell_type": "markdown",
   "metadata": {},
   "source": [
    "DISCUSSION: In keras tuner the validation accuracy reached maximum of 71% with 384 units in the neural network which is higher the validation accuracy of our best model which was model 4."
   ]
  },
  {
   "cell_type": "markdown",
   "metadata": {},
   "source": [
    "***KERAS FUNCTIONAL API FOR TUNER***"
   ]
  },
  {
   "cell_type": "code",
   "execution_count": 110,
   "metadata": {},
   "outputs": [],
   "source": [
    "model = tf.keras.models.Sequential([\n",
    "   # tf.keras.layers.Dense(256, input_dim = 8, activation ='relu'),\n",
    "    tf.keras.layers.Dense(384, input_dim = 8, activation='relu'),\n",
    "    # Only 1 output neuron. It will contain a value from 0-1 where 0 for no diabetes and 1 for diabetes\n",
    "    tf.keras.layers.Dense(1, activation='sigmoid')\n",
    "])"
   ]
  },
  {
   "cell_type": "code",
   "execution_count": 111,
   "metadata": {},
   "outputs": [
    {
     "name": "stdout",
     "output_type": "stream",
     "text": [
      "Epoch 1/25\n",
      "27/27 [==============================] - 1s 9ms/step - loss: 1.5993 - accuracy: 0.5916 - val_loss: 1.1171 - val_accuracy: 0.5903\n",
      "Epoch 2/25\n",
      "27/27 [==============================] - 0s 3ms/step - loss: 0.7721 - accuracy: 0.6497 - val_loss: 0.7890 - val_accuracy: 0.5903\n",
      "Epoch 3/25\n",
      "27/27 [==============================] - 0s 3ms/step - loss: 0.7075 - accuracy: 0.6381 - val_loss: 0.7102 - val_accuracy: 0.6667\n",
      "Epoch 4/25\n",
      "27/27 [==============================] - 0s 3ms/step - loss: 0.7311 - accuracy: 0.6497 - val_loss: 1.0281 - val_accuracy: 0.6597\n",
      "Epoch 5/25\n",
      "27/27 [==============================] - 0s 2ms/step - loss: 0.6702 - accuracy: 0.6705 - val_loss: 1.3246 - val_accuracy: 0.5000\n",
      "Epoch 6/25\n",
      "27/27 [==============================] - 0s 3ms/step - loss: 0.8256 - accuracy: 0.6520 - val_loss: 0.8561 - val_accuracy: 0.6458\n",
      "Epoch 7/25\n",
      "27/27 [==============================] - 0s 3ms/step - loss: 0.7711 - accuracy: 0.6311 - val_loss: 1.0640 - val_accuracy: 0.5903\n",
      "Epoch 8/25\n",
      "27/27 [==============================] - 0s 2ms/step - loss: 0.7454 - accuracy: 0.6937 - val_loss: 0.8739 - val_accuracy: 0.6042\n",
      "Epoch 9/25\n",
      "27/27 [==============================] - 0s 3ms/step - loss: 0.7978 - accuracy: 0.6473 - val_loss: 1.3669 - val_accuracy: 0.5556\n",
      "Epoch 10/25\n",
      "27/27 [==============================] - 0s 3ms/step - loss: 0.7239 - accuracy: 0.6845 - val_loss: 0.8001 - val_accuracy: 0.6736\n",
      "Epoch 11/25\n",
      "27/27 [==============================] - 0s 3ms/step - loss: 0.6777 - accuracy: 0.6914 - val_loss: 0.7077 - val_accuracy: 0.7014\n",
      "Epoch 12/25\n",
      "27/27 [==============================] - 0s 3ms/step - loss: 0.5929 - accuracy: 0.7169 - val_loss: 0.9258 - val_accuracy: 0.5972\n",
      "Epoch 13/25\n",
      "27/27 [==============================] - 0s 3ms/step - loss: 0.8048 - accuracy: 0.6729 - val_loss: 1.2329 - val_accuracy: 0.5833\n",
      "Epoch 14/25\n",
      "27/27 [==============================] - 0s 3ms/step - loss: 1.0142 - accuracy: 0.6334 - val_loss: 1.1667 - val_accuracy: 0.6319\n",
      "Epoch 15/25\n",
      "27/27 [==============================] - 0s 3ms/step - loss: 0.7050 - accuracy: 0.7053 - val_loss: 1.1673 - val_accuracy: 0.5903\n",
      "Epoch 16/25\n",
      "27/27 [==============================] - 0s 3ms/step - loss: 0.6952 - accuracy: 0.7123 - val_loss: 0.7858 - val_accuracy: 0.6319\n",
      "Epoch 17/25\n",
      "27/27 [==============================] - 0s 3ms/step - loss: 0.5786 - accuracy: 0.7077 - val_loss: 0.7596 - val_accuracy: 0.6597\n",
      "Epoch 18/25\n",
      "27/27 [==============================] - 0s 2ms/step - loss: 0.5293 - accuracy: 0.7401 - val_loss: 0.6403 - val_accuracy: 0.6528\n",
      "Epoch 19/25\n",
      "27/27 [==============================] - 0s 2ms/step - loss: 0.5490 - accuracy: 0.7448 - val_loss: 0.8345 - val_accuracy: 0.6250\n",
      "Epoch 20/25\n",
      "27/27 [==============================] - 0s 3ms/step - loss: 0.6059 - accuracy: 0.6984 - val_loss: 0.7506 - val_accuracy: 0.6319\n",
      "Epoch 21/25\n",
      "27/27 [==============================] - 0s 3ms/step - loss: 0.5256 - accuracy: 0.7517 - val_loss: 0.6599 - val_accuracy: 0.6806\n",
      "Epoch 22/25\n",
      "27/27 [==============================] - 0s 3ms/step - loss: 0.5398 - accuracy: 0.7216 - val_loss: 0.7286 - val_accuracy: 0.6389\n",
      "Epoch 23/25\n",
      "27/27 [==============================] - 0s 3ms/step - loss: 0.5914 - accuracy: 0.7169 - val_loss: 0.8981 - val_accuracy: 0.6597\n",
      "Epoch 24/25\n",
      "27/27 [==============================] - 0s 3ms/step - loss: 0.6425 - accuracy: 0.6891 - val_loss: 0.7723 - val_accuracy: 0.6667\n",
      "Epoch 25/25\n",
      "27/27 [==============================] - 0s 3ms/step - loss: 0.5960 - accuracy: 0.7285 - val_loss: 0.7430 - val_accuracy: 0.6389\n",
      "My model was trained for 25 epochs\n"
     ]
    }
   ],
   "source": [
    "model.compile(optimizer = 'Adam', loss='binary_crossentropy', metrics = ['accuracy'])\n",
    "history = model.fit(X_train, Y_train, validation_split = 0.25, epochs = 25, batch_size = 16)\n",
    "print(f\"My model was trained for {len(history.epoch)} epochs\")"
   ]
  },
  {
   "cell_type": "code",
   "execution_count": 112,
   "metadata": {},
   "outputs": [
    {
     "name": "stdout",
     "output_type": "stream",
     "text": [
      "Model: \"sequential_3\"\n",
      "_________________________________________________________________\n",
      " Layer (type)                Output Shape              Param #   \n",
      "=================================================================\n",
      " dense_10 (Dense)            (None, 384)               3456      \n",
      "                                                                 \n",
      " dense_11 (Dense)            (None, 1)                 385       \n",
      "                                                                 \n",
      "=================================================================\n",
      "Total params: 3,841\n",
      "Trainable params: 3,841\n",
      "Non-trainable params: 0\n",
      "_________________________________________________________________\n"
     ]
    }
   ],
   "source": [
    "model.summary()"
   ]
  },
  {
   "cell_type": "markdown",
   "metadata": {},
   "source": [
    "DISCUSSION: From above we can see that we can recreate the accuracy of our tuner with keras functional using with units 384."
   ]
  }
 ],
 "metadata": {
  "kernelspec": {
   "display_name": "Python 3 (ipykernel)",
   "language": "python",
   "name": "python3"
  },
  "language_info": {
   "codemirror_mode": {
    "name": "ipython",
    "version": 3
   },
   "file_extension": ".py",
   "mimetype": "text/x-python",
   "name": "python",
   "nbconvert_exporter": "python",
   "pygments_lexer": "ipython3",
   "version": "3.9.12"
  },
  "latex_envs": {
   "LaTeX_envs_menu_present": true,
   "autoclose": false,
   "autocomplete": true,
   "bibliofile": "biblio.bib",
   "cite_by": "apalike",
   "current_citInitial": 1,
   "eqLabelWithNumbers": true,
   "eqNumInitial": 1,
   "hotkeys": {
    "equation": "Ctrl-E",
    "itemize": "Ctrl-I"
   },
   "labels_anchors": false,
   "latex_user_defs": false,
   "report_style_numbering": false,
   "user_envs_cfg": false
  },
  "toc": {
   "base_numbering": 1,
   "nav_menu": {},
   "number_sections": true,
   "sideBar": true,
   "skip_h1_title": false,
   "title_cell": "Table of Contents",
   "title_sidebar": "Contents",
   "toc_cell": false,
   "toc_position": {},
   "toc_section_display": true,
   "toc_window_display": false
  },
  "varInspector": {
   "cols": {
    "lenName": 16,
    "lenType": 16,
    "lenVar": 40
   },
   "kernels_config": {
    "python": {
     "delete_cmd_postfix": "",
     "delete_cmd_prefix": "del ",
     "library": "var_list.py",
     "varRefreshCmd": "print(var_dic_list())"
    },
    "r": {
     "delete_cmd_postfix": ") ",
     "delete_cmd_prefix": "rm(",
     "library": "var_list.r",
     "varRefreshCmd": "cat(var_dic_list()) "
    }
   },
   "types_to_exclude": [
    "module",
    "function",
    "builtin_function_or_method",
    "instance",
    "_Feature"
   ],
   "window_display": true
  }
 },
 "nbformat": 4,
 "nbformat_minor": 4
}
