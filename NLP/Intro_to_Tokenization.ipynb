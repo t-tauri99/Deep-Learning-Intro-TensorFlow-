{
  "cells": [
    {
      "cell_type": "markdown",
      "metadata": {
        "id": "SdNGfEo2u-r7"
      },
      "source": [
        "# Tokenizing the Sarcasm Dataset"
      ]
    },
    {
      "cell_type": "markdown",
      "metadata": {
        "id": "Twhyfjg0xTkg"
      },
      "source": [
        "## Load and view the dataset"
      ]
    },
    {
      "cell_type": "code",
      "execution_count": null,
      "metadata": {
        "id": "33W129a7xgoJ"
      },
      "outputs": [],
      "source": [
        "# Download the dataset\n",
        "!wget https://storage.googleapis.com/tensorflow-1-public/course3/sarcasm.json"
      ]
    },
    {
      "cell_type": "code",
      "execution_count": null,
      "metadata": {
        "id": "OkaBMeNDwMel"
      },
      "outputs": [],
      "source": [
        "import json\n",
        "\n",
        "# Load the JSON file\n",
        "with open(\"./sarcasm.json\", 'r') as f:\n",
        "    datastore = json.load(f)"
      ]
    },
    {
      "cell_type": "code",
      "execution_count": null,
      "metadata": {
        "id": "RiiFcWU2xnMJ"
      },
      "outputs": [],
      "source": [
        "# Non-sarcastic headline\n",
        "print(datastore[0])\n",
        "\n",
        "# Sarcastic headline\n",
        "print(datastore[20000])"
      ]
    },
    {
      "cell_type": "code",
      "execution_count": null,
      "metadata": {
        "id": "9pxLUQJCxkNB"
      },
      "outputs": [],
      "source": [
        "# Initialize lists\n",
        "sentences = [] \n",
        "labels = []\n",
        "urls = []\n",
        "\n",
        "# Append elements in the dictionaries into each list\n",
        "for item in datastore:\n",
        "    sentences.append(item['headline'])\n",
        "    labels.append(item['is_sarcastic'])\n",
        "    urls.append(item['article_link'])"
      ]
    },
    {
      "cell_type": "markdown",
      "metadata": {
        "id": "lBHSXJ5V0qqK"
      },
      "source": [
        "## Preprocessing the headlines"
      ]
    },
    {
      "cell_type": "code",
      "execution_count": null,
      "metadata": {
        "id": "5OSTw3uJuvmY"
      },
      "outputs": [],
      "source": [
        "from tensorflow.keras.preprocessing.text import Tokenizer\n",
        "from tensorflow.keras.preprocessing.sequence import pad_sequences\n",
        "\n",
        "# Initialize the Tokenizer class\n",
        "tokenizer = Tokenizer(oov_token=\"<OOV>\")\n",
        "\n",
        "# Generate the word index dictionary\n",
        "tokenizer.fit_on_texts(sentences)\n",
        "\n",
        "# Print the length of the word index\n",
        "word_index = tokenizer.word_index\n",
        "print(f'number of words in word_index: {len(word_index)}')\n",
        "\n",
        "# Print the word index\n",
        "print(f'word_index: {word_index}')\n",
        "print()\n",
        "\n",
        "# Generate and pad the sequences\n",
        "sequences = tokenizer.texts_to_sequences(sentences)\n",
        "padded = pad_sequences(sequences, padding='post')\n",
        "\n",
        "# Print a sample headline\n",
        "index = 2\n",
        "print(f'sample headline: {sentences[index]}')\n",
        "print(f'padded sequence: {padded[index]}')\n",
        "print()\n",
        "\n",
        "# Print dimensions of padded sequences\n",
        "print(f'shape of padded sequences: {padded.shape}')"
      ]
    }
  ],
  "metadata": {
    "colab": {
      "name": "C3_W1_Lab_3_sarcasm.ipynb",
      "private_outputs": true,
      "provenance": [],
      "toc_visible": true
    },
    "kernelspec": {
      "display_name": "Python 3",
      "language": "python",
      "name": "python3"
    },
    "language_info": {
      "codemirror_mode": {
        "name": "ipython",
        "version": 3
      },
      "file_extension": ".py",
      "mimetype": "text/x-python",
      "name": "python",
      "nbconvert_exporter": "python",
      "pygments_lexer": "ipython3",
      "version": "3.7.4"
    }
  },
  "nbformat": 4,
  "nbformat_minor": 0
}
